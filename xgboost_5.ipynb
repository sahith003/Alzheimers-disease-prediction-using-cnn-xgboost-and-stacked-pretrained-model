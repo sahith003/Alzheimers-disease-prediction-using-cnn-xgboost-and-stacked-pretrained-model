{
 "cells": [
  {
   "cell_type": "code",
   "execution_count": 1,
   "id": "18c4ad44",
   "metadata": {},
   "outputs": [],
   "source": [
    "import warnings \n",
    "warnings.filterwarnings('ignore')\n",
    "from zipfile import ZipFile\n",
    "import pandas as pd\n",
    "import numpy as np\n",
    "import matplotlib.pyplot as plt\n",
    "import cv2\n",
    "import tensorflow as tf\n",
    "from tensorflow.keras.preprocessing.image import ImageDataGenerator\n",
    "from sklearn.model_selection import train_test_split\n",
    "from tensorflow.keras.models import Sequential\n",
    "from tensorflow.keras.layers import Dense,MaxPooling2D,Conv2D,Flatten,Dropout,GlobalAveragePooling2D,BatchNormalization\n",
    "from tensorflow.keras.callbacks import EarlyStopping, ModelCheckpoint\n",
    "from tensorflow.keras import regularizers,optimizers\n",
    "import os\n",
    "from imblearn.over_sampling import SMOTE"
   ]
  },
  {
   "cell_type": "code",
   "execution_count": 2,
   "id": "0534e905",
   "metadata": {},
   "outputs": [
    {
     "name": "stdout",
     "output_type": "stream",
     "text": [
      "Found 2264 images belonging to 4 classes.\n"
     ]
    }
   ],
   "source": [
    "WORK_DIR = './dataset/'\n",
    "IMG_SIZE = 224\n",
    "DIM = (IMG_SIZE, IMG_SIZE)\n",
    "class_names = ['MildDementia', 'ModerateDementia', 'NonDementia', 'VeryMildDementia']\n",
    "ZOOM = [.99, 1.01]\n",
    "BRIGHT_RANGE = [0.8, 1.2]\n",
    "HORZ_FLIP = True\n",
    "FILL_MODE = \"constant\"\n",
    "DATA_FORMAT = \"channels_last\"\n",
    "\n",
    "work_dr = ImageDataGenerator(rescale = 1./255, brightness_range=BRIGHT_RANGE, zoom_range=ZOOM, data_format=DATA_FORMAT, fill_mode=FILL_MODE, horizontal_flip=HORZ_FLIP)\n",
    "data_gen = work_dr.flow_from_directory(directory=WORK_DIR, target_size=DIM,batch_size=2300, shuffle=False)"
   ]
  },
  {
   "cell_type": "code",
   "execution_count": 3,
   "id": "1cac9675",
   "metadata": {},
   "outputs": [
    {
     "name": "stdout",
     "output_type": "stream",
     "text": [
      "(2264, 224, 224, 3) (2264, 4)\n"
     ]
    }
   ],
   "source": [
    "data, data_labels = data_gen.next()\n",
    "print(data.shape,data_labels.shape)"
   ]
  },
  {
   "cell_type": "code",
   "execution_count": 4,
   "id": "b139b88d",
   "metadata": {},
   "outputs": [
    {
     "name": "stdout",
     "output_type": "stream",
     "text": [
      "(3784, 224, 224, 3) (3784, 4)\n"
     ]
    }
   ],
   "source": [
    "sm = SMOTE(random_state=42)\n",
    "\n",
    "data, data_labels = sm.fit_resample(data.reshape(-1, IMG_SIZE * IMG_SIZE * 3), data_labels)\n",
    "\n",
    "data = data.reshape(-1, IMG_SIZE, IMG_SIZE, 3)\n",
    "\n",
    "print(data.shape, data_labels.shape)"
   ]
  },
  {
   "cell_type": "code",
   "execution_count": 5,
   "id": "c6a2c4b8",
   "metadata": {},
   "outputs": [],
   "source": [
    "train_data, test_data, train_labels, test_labels = train_test_split(data,data_labels, test_size = 0.2, random_state=42)\n",
    "train_data, val_data, train_labels, val_labels = train_test_split(train_data, train_labels, test_size = 0.2, random_state=42)"
   ]
  },
  {
   "cell_type": "code",
   "execution_count": 6,
   "id": "5ab5bd6f",
   "metadata": {},
   "outputs": [
    {
     "name": "stdout",
     "output_type": "stream",
     "text": [
      "(2421, 224, 224, 3) (2421, 4)\n",
      "(757, 224, 224, 3) (757, 4)\n"
     ]
    }
   ],
   "source": [
    "print(train_data.shape,train_labels.shape)\n",
    "print(test_data.shape,test_labels.shape)"
   ]
  },
  {
   "cell_type": "code",
   "execution_count": 7,
   "id": "4720bfff",
   "metadata": {},
   "outputs": [],
   "source": [
    "from keras.layers import LeakyReLU\n",
    "from tensorflow.keras.layers import AveragePooling2D\n",
    "from keras.callbacks import EarlyStopping\n",
    "earlystop= EarlyStopping(monitor='val_loss', patience=10,mode='min')"
   ]
  },
  {
   "cell_type": "code",
   "execution_count": 8,
   "id": "9011628a",
   "metadata": {},
   "outputs": [],
   "source": [
    "c8=Sequential()\n",
    "c8.add(Conv2D(64, (3, 3), activation='relu', input_shape=(224, 224, 3)))\n",
    "c8.add(BatchNormalization(momentum=0.9, epsilon=1e-5, gamma_initializer=\"uniform\"))\n",
    "c8.add(MaxPooling2D(pool_size=(2, 2)))\n",
    "c8.add(Dropout(0.25))\n",
    "c8.add(Conv2D(32, (3, 3), activation='relu',padding='same'))\n",
    "c8.add(AveragePooling2D(pool_size=(2, 2)))\n",
    "c8.add(Dropout(0.5))\n",
    "c8.add(Flatten())\n",
    "c8.add(Dense(256, activation='relu', name='my_dense'))\n",
    "c8.add(Dropout(0.5))\n",
    "c8.add(Dense(64, activation='relu',kernel_regularizer=tf.keras.regularizers.l2(0.1)))\n",
    "c8.add(Dropout(0.5))\n",
    "c8.add(Dense(4, activation='softmax'))"
   ]
  },
  {
   "cell_type": "code",
   "execution_count": 9,
   "id": "f703af49",
   "metadata": {},
   "outputs": [
    {
     "name": "stdout",
     "output_type": "stream",
     "text": [
      "Epoch 1/35\n",
      "76/76 [==============================] - 318s 4s/step - loss: 6.3083 - accuracy: 0.2900 - val_loss: 2.9539 - val_accuracy: 0.2772\n",
      "Epoch 2/35\n",
      "76/76 [==============================] - 309s 4s/step - loss: 1.7365 - accuracy: 0.5543 - val_loss: 1.0549 - val_accuracy: 0.6997\n",
      "Epoch 3/35\n",
      "76/76 [==============================] - 308s 4s/step - loss: 0.8839 - accuracy: 0.6890 - val_loss: 0.7272 - val_accuracy: 0.7442\n",
      "Epoch 4/35\n",
      "76/76 [==============================] - 312s 4s/step - loss: 0.6583 - accuracy: 0.7658 - val_loss: 0.5517 - val_accuracy: 0.8168\n",
      "Epoch 5/35\n",
      "76/76 [==============================] - 305s 4s/step - loss: 0.5411 - accuracy: 0.8286 - val_loss: 0.4880 - val_accuracy: 0.8482\n",
      "Epoch 6/35\n",
      "76/76 [==============================] - 305s 4s/step - loss: 0.4621 - accuracy: 0.8637 - val_loss: 0.4707 - val_accuracy: 0.8399\n",
      "Epoch 7/35\n",
      "76/76 [==============================] - 305s 4s/step - loss: 0.4054 - accuracy: 0.8798 - val_loss: 0.4206 - val_accuracy: 0.8795\n",
      "Epoch 8/35\n",
      "76/76 [==============================] - 305s 4s/step - loss: 0.3323 - accuracy: 0.9091 - val_loss: 0.3698 - val_accuracy: 0.8845\n",
      "Epoch 9/35\n",
      "76/76 [==============================] - 304s 4s/step - loss: 0.2952 - accuracy: 0.9133 - val_loss: 0.4088 - val_accuracy: 0.8878\n",
      "Epoch 10/35\n",
      "76/76 [==============================] - 302s 4s/step - loss: 0.2449 - accuracy: 0.9376 - val_loss: 0.3421 - val_accuracy: 0.8977\n",
      "Epoch 11/35\n",
      "76/76 [==============================] - 307s 4s/step - loss: 0.2306 - accuracy: 0.9451 - val_loss: 0.3282 - val_accuracy: 0.9191\n",
      "Epoch 12/35\n",
      "76/76 [==============================] - 304s 4s/step - loss: 0.1779 - accuracy: 0.9595 - val_loss: 0.3687 - val_accuracy: 0.9010\n",
      "Epoch 13/35\n",
      "76/76 [==============================] - 303s 4s/step - loss: 0.1746 - accuracy: 0.9575 - val_loss: 0.3707 - val_accuracy: 0.9142\n",
      "Epoch 14/35\n",
      "76/76 [==============================] - 303s 4s/step - loss: 0.2110 - accuracy: 0.9537 - val_loss: 0.3362 - val_accuracy: 0.9076\n",
      "Epoch 15/35\n",
      "76/76 [==============================] - 316s 4s/step - loss: 0.1774 - accuracy: 0.9603 - val_loss: 0.3629 - val_accuracy: 0.9010\n",
      "Epoch 16/35\n",
      "76/76 [==============================] - 374s 5s/step - loss: 0.1644 - accuracy: 0.9661 - val_loss: 0.3511 - val_accuracy: 0.8911\n",
      "Epoch 17/35\n",
      "76/76 [==============================] - 387s 5s/step - loss: 0.1572 - accuracy: 0.9645 - val_loss: 0.3689 - val_accuracy: 0.9158\n",
      "Epoch 18/35\n",
      "76/76 [==============================] - 361s 5s/step - loss: 0.1634 - accuracy: 0.9674 - val_loss: 0.3200 - val_accuracy: 0.9026\n",
      "Epoch 19/35\n",
      "76/76 [==============================] - 343s 5s/step - loss: 0.1495 - accuracy: 0.9723 - val_loss: 0.3546 - val_accuracy: 0.9142\n",
      "Epoch 20/35\n",
      "76/76 [==============================] - 307s 4s/step - loss: 0.1536 - accuracy: 0.9682 - val_loss: 0.3451 - val_accuracy: 0.9125\n",
      "Epoch 21/35\n",
      "76/76 [==============================] - 314s 4s/step - loss: 0.1562 - accuracy: 0.9694 - val_loss: 0.3264 - val_accuracy: 0.8977\n",
      "Epoch 22/35\n",
      "76/76 [==============================] - 304s 4s/step - loss: 0.1327 - accuracy: 0.9765 - val_loss: 0.3075 - val_accuracy: 0.9241\n",
      "Epoch 23/35\n",
      "76/76 [==============================] - 303s 4s/step - loss: 0.1097 - accuracy: 0.9827 - val_loss: 0.3342 - val_accuracy: 0.9257\n",
      "Epoch 24/35\n",
      "76/76 [==============================] - 305s 4s/step - loss: 0.1199 - accuracy: 0.9785 - val_loss: 0.3451 - val_accuracy: 0.9175\n",
      "Epoch 25/35\n",
      "76/76 [==============================] - 304s 4s/step - loss: 0.1007 - accuracy: 0.9810 - val_loss: 0.3863 - val_accuracy: 0.9241\n",
      "Epoch 26/35\n",
      "76/76 [==============================] - 303s 4s/step - loss: 0.1012 - accuracy: 0.9860 - val_loss: 0.3300 - val_accuracy: 0.9125\n",
      "Epoch 27/35\n",
      "76/76 [==============================] - 305s 4s/step - loss: 0.1033 - accuracy: 0.9839 - val_loss: 0.3314 - val_accuracy: 0.9274\n",
      "Epoch 28/35\n",
      "76/76 [==============================] - 302s 4s/step - loss: 0.1147 - accuracy: 0.9831 - val_loss: 0.3546 - val_accuracy: 0.9191\n",
      "Epoch 29/35\n",
      "76/76 [==============================] - 304s 4s/step - loss: 0.1046 - accuracy: 0.9851 - val_loss: 0.2991 - val_accuracy: 0.9274\n",
      "Epoch 30/35\n",
      "76/76 [==============================] - 302s 4s/step - loss: 0.0980 - accuracy: 0.9839 - val_loss: 0.3532 - val_accuracy: 0.9191\n",
      "Epoch 31/35\n",
      "76/76 [==============================] - 303s 4s/step - loss: 0.1161 - accuracy: 0.9810 - val_loss: 0.3244 - val_accuracy: 0.9191\n",
      "Epoch 32/35\n",
      "76/76 [==============================] - 304s 4s/step - loss: 0.0845 - accuracy: 0.9917 - val_loss: 0.3879 - val_accuracy: 0.9175\n",
      "Epoch 33/35\n",
      "76/76 [==============================] - 311s 4s/step - loss: 0.0802 - accuracy: 0.9893 - val_loss: 0.3176 - val_accuracy: 0.9274\n",
      "Epoch 34/35\n",
      "76/76 [==============================] - 304s 4s/step - loss: 0.0922 - accuracy: 0.9864 - val_loss: 0.3437 - val_accuracy: 0.9208\n",
      "Epoch 35/35\n",
      "76/76 [==============================] - 304s 4s/step - loss: 0.0944 - accuracy: 0.9888 - val_loss: 0.3818 - val_accuracy: 0.9224\n"
     ]
    }
   ],
   "source": [
    "from keras.models import Model\n",
    "layer_name='my_dense'\n",
    "intermediate_layer_model11 = Model(inputs=c8.input,\n",
    "                                 outputs=c8.get_layer(layer_name).output)\n",
    "c8.compile(optimizer='adam',loss='categorical_crossentropy',metrics = ['accuracy'])\n",
    "cnn_model11=c8.fit(train_data,train_labels,epochs=35, validation_data=(val_data,val_labels),callbacks=earlystop)"
   ]
  },
  {
   "cell_type": "code",
   "execution_count": 10,
   "id": "f841469f",
   "metadata": {},
   "outputs": [
    {
     "name": "stdout",
     "output_type": "stream",
     "text": [
      "Model: \"model\"\n",
      "_________________________________________________________________\n",
      "Layer (type)                 Output Shape              Param #   \n",
      "=================================================================\n",
      "Total params: 24,801,568\n",
      "Trainable params: 24,801,440\n",
      "Non-trainable params: 128\n",
      "_________________________________________________________________\n"
     ]
    }
   ],
   "source": [
    "intermediate_layer_model11.summary()"
   ]
  },
  {
   "cell_type": "code",
   "execution_count": 11,
   "id": "b3df880f",
   "metadata": {},
   "outputs": [
    {
     "data": {
      "text/plain": [
       "(2421, 256)"
      ]
     },
     "execution_count": 11,
     "metadata": {},
     "output_type": "execute_result"
    }
   ],
   "source": [
    "intermediate_train_output = intermediate_layer_model11.predict(train_data) \n",
    "intermediate_train_output.shape"
   ]
  },
  {
   "cell_type": "code",
   "execution_count": 12,
   "id": "338af2fb",
   "metadata": {},
   "outputs": [
    {
     "data": {
      "text/plain": [
       "(757, 256)"
      ]
     },
     "execution_count": 12,
     "metadata": {},
     "output_type": "execute_result"
    }
   ],
   "source": [
    "intermediate_test_output = intermediate_layer_model11.predict(test_data) \n",
    "intermediate_test_output.shape"
   ]
  },
  {
   "cell_type": "code",
   "execution_count": 13,
   "id": "5e17a335",
   "metadata": {},
   "outputs": [
    {
     "data": {
      "text/plain": [
       "(606, 256)"
      ]
     },
     "execution_count": 13,
     "metadata": {},
     "output_type": "execute_result"
    }
   ],
   "source": [
    "intermediate_val_output = intermediate_layer_model11.predict(val_data)\n",
    "intermediate_val_output.shape"
   ]
  },
  {
   "cell_type": "code",
   "execution_count": 16,
   "id": "82ea8aee",
   "metadata": {},
   "outputs": [],
   "source": [
    "from numpy import save"
   ]
  },
  {
   "cell_type": "code",
   "execution_count": 17,
   "id": "bbb3024d",
   "metadata": {},
   "outputs": [],
   "source": [
    "save('train_data.npy',intermediate_train_output)"
   ]
  },
  {
   "cell_type": "code",
   "execution_count": 18,
   "id": "1c0d14e5",
   "metadata": {},
   "outputs": [],
   "source": [
    "save('test_data.npy',intermediate_test_output)"
   ]
  },
  {
   "cell_type": "code",
   "execution_count": 19,
   "id": "45f6d342",
   "metadata": {},
   "outputs": [],
   "source": [
    "save('val_data.npy',intermediate_val_output)"
   ]
  },
  {
   "cell_type": "code",
   "execution_count": 23,
   "id": "f7c9ac5a",
   "metadata": {},
   "outputs": [],
   "source": [
    "from xgboost import XGBClassifier"
   ]
  },
  {
   "cell_type": "code",
   "execution_count": 24,
   "id": "57954460",
   "metadata": {},
   "outputs": [],
   "source": [
    "test_labels1=np.argmax(test_labels,axis=1)\n",
    "train_labels1=np.argmax(train_labels,axis=1)"
   ]
  },
  {
   "cell_type": "code",
   "execution_count": 27,
   "id": "ba339bdb",
   "metadata": {},
   "outputs": [],
   "source": [
    "val_labels1=np.argmax(val_labels,axis=1)"
   ]
  },
  {
   "cell_type": "code",
   "execution_count": 25,
   "id": "6570e204",
   "metadata": {},
   "outputs": [],
   "source": [
    "save('test_labels.npy',test_labels1)"
   ]
  },
  {
   "cell_type": "code",
   "execution_count": 26,
   "id": "2455b2b7",
   "metadata": {},
   "outputs": [],
   "source": [
    "save('train_labels.npy',train_labels1)"
   ]
  },
  {
   "cell_type": "code",
   "execution_count": 28,
   "id": "f89ecb22",
   "metadata": {},
   "outputs": [],
   "source": [
    "save('val_labels.npy',val_labels1)"
   ]
  },
  {
   "cell_type": "code",
   "execution_count": 20,
   "id": "b838969c",
   "metadata": {},
   "outputs": [],
   "source": [
    "from numpy import load"
   ]
  },
  {
   "cell_type": "code",
   "execution_count": 21,
   "id": "35c8fb07",
   "metadata": {},
   "outputs": [],
   "source": [
    "train_1=load('train_data.npy')"
   ]
  },
  {
   "cell_type": "code",
   "execution_count": null,
   "id": "55ab6e51",
   "metadata": {},
   "outputs": [],
   "source": [
    "####################################################"
   ]
  },
  {
   "cell_type": "code",
   "execution_count": 29,
   "id": "d10b9c4b",
   "metadata": {},
   "outputs": [],
   "source": [
    "from xgboost import XGBClassifier"
   ]
  },
  {
   "cell_type": "code",
   "execution_count": 30,
   "id": "f6b3778f",
   "metadata": {},
   "outputs": [
    {
     "name": "stdout",
     "output_type": "stream",
     "text": [
      "[16:48:04] WARNING: C:/Users/Administrator/workspace/xgboost-win64_release_1.5.1/src/learner.cc:1115: Starting in XGBoost 1.3.0, the default evaluation metric used with the objective 'multi:softprob' was changed from 'merror' to 'mlogloss'. Explicitly set eval_metric if you'd like to restore the old behavior.\n"
     ]
    },
    {
     "data": {
      "text/plain": [
       "XGBClassifier(base_score=0.5, booster='gbtree', colsample_bylevel=1,\n",
       "              colsample_bynode=1, colsample_bytree=1, enable_categorical=False,\n",
       "              gamma=0, gpu_id=-1, importance_type=None,\n",
       "              interaction_constraints='', learning_rate=0.300000012,\n",
       "              max_delta_step=0, max_depth=6, min_child_weight=1, missing=nan,\n",
       "              monotone_constraints='()', n_estimators=100, n_jobs=4,\n",
       "              num_class=4, num_parallel_tree=1, objective='multi:softprob',\n",
       "              predictor='auto', random_state=0, reg_alpha=0, reg_lambda=1,\n",
       "              scale_pos_weight=None, subsample=1, tree_method='exact',\n",
       "              validate_parameters=1, verbosity=None)"
      ]
     },
     "execution_count": 30,
     "metadata": {},
     "output_type": "execute_result"
    }
   ],
   "source": [
    "xgbmodel = XGBClassifier(objective='multi:softmax',\n",
    "                      num_class=4)\n",
    "xgbmodel.fit(intermediate_train_output, train_labels1)"
   ]
  },
  {
   "cell_type": "code",
   "execution_count": 31,
   "id": "064773dd",
   "metadata": {},
   "outputs": [],
   "source": [
    "xgbmodel_train=xgbmodel.predict(intermediate_train_output)\n",
    "xgbmodel_test=xgbmodel.predict(intermediate_test_output)"
   ]
  },
  {
   "cell_type": "code",
   "execution_count": 32,
   "id": "34ec13e6",
   "metadata": {},
   "outputs": [],
   "source": [
    "import sklearn"
   ]
  },
  {
   "cell_type": "code",
   "execution_count": 34,
   "id": "5a3f7951",
   "metadata": {},
   "outputs": [
    {
     "name": "stdout",
     "output_type": "stream",
     "text": [
      "              precision    recall  f1-score   support\n",
      "\n",
      "           0       1.00      1.00      1.00       597\n",
      "           1       1.00      1.00      1.00       616\n",
      "           2       1.00      1.00      1.00       605\n",
      "           3       1.00      1.00      1.00       603\n",
      "\n",
      "    accuracy                           1.00      2421\n",
      "   macro avg       1.00      1.00      1.00      2421\n",
      "weighted avg       1.00      1.00      1.00      2421\n",
      "\n"
     ]
    }
   ],
   "source": [
    "print(sklearn.metrics.classification_report(xgbmodel_train,train_labels1))"
   ]
  },
  {
   "cell_type": "code",
   "execution_count": 35,
   "id": "cb0523dd",
   "metadata": {},
   "outputs": [
    {
     "name": "stdout",
     "output_type": "stream",
     "text": [
      "              precision    recall  f1-score   support\n",
      "\n",
      "           0       0.95      0.96      0.95       208\n",
      "           1       1.00      1.00      1.00       182\n",
      "           2       0.91      0.90      0.90       187\n",
      "           3       0.88      0.87      0.87       180\n",
      "\n",
      "    accuracy                           0.93       757\n",
      "   macro avg       0.93      0.93      0.93       757\n",
      "weighted avg       0.93      0.93      0.93       757\n",
      "\n"
     ]
    }
   ],
   "source": [
    "print(sklearn.metrics.classification_report(xgbmodel_test,test_labels1))"
   ]
  },
  {
   "cell_type": "code",
   "execution_count": 231,
   "id": "ade7b554",
   "metadata": {},
   "outputs": [
    {
     "name": "stdout",
     "output_type": "stream",
     "text": [
      "[0]\tvalidation_0-merror:0.14003\n",
      "[1]\tvalidation_0-merror:0.10832\n",
      "[2]\tvalidation_0-merror:0.09907\n",
      "[3]\tvalidation_0-merror:0.09643\n",
      "[4]\tvalidation_0-merror:0.08983\n",
      "[5]\tvalidation_0-merror:0.08322\n",
      "[6]\tvalidation_0-merror:0.08190\n",
      "[7]\tvalidation_0-merror:0.08586\n",
      "[8]\tvalidation_0-merror:0.08586\n",
      "[9]\tvalidation_0-merror:0.08586\n",
      "[10]\tvalidation_0-merror:0.08586\n",
      "[11]\tvalidation_0-merror:0.08586\n"
     ]
    },
    {
     "data": {
      "text/plain": [
       "XGBClassifier(base_score=0.5, booster='gbtree', colsample_bylevel=1,\n",
       "              colsample_bynode=1, colsample_bytree=1, enable_categorical=False,\n",
       "              gamma=60, gpu_id=-1, importance_type=None,\n",
       "              interaction_constraints='', learning_rate=0.3, max_delta_step=0,\n",
       "              max_depth=6, min_child_weight=1, missing=nan,\n",
       "              monotone_constraints='()', n_estimators=100, n_jobs=4,\n",
       "              num_class=4, num_parallel_tree=1, objective='multi:softprob',\n",
       "              predictor='auto', random_state=0, reg_alpha=0, reg_lambda=1,\n",
       "              scale_pos_weight=None, subsample=1, tree_method='exact',\n",
       "              validate_parameters=1, verbosity=None)"
      ]
     },
     "execution_count": 231,
     "metadata": {},
     "output_type": "execute_result"
    }
   ],
   "source": [
    "xgbmodel_2 = XGBClassifier(objective='multi:softmax',learning_rate= 0.3,gamma=60,\n",
    "                      n_estimators=100,num_class=4)\n",
    "eval_set=[(intermediate_test_output,test_labels1)]\n",
    "xgbmodel_2.fit(intermediate_train_output, np.argmax(train_labels,axis=1),early_stopping_rounds=5,eval_metric=\"merror\",eval_set=eval_set, verbose=True)"
   ]
  },
  {
   "cell_type": "code",
   "execution_count": 232,
   "id": "a6b21e47",
   "metadata": {},
   "outputs": [],
   "source": [
    "xgbmodel_train2=xgbmodel_2.predict(intermediate_train_output)\n",
    "xgbmodel_test2=xgbmodel_2.predict(intermediate_test_output)"
   ]
  },
  {
   "cell_type": "code",
   "execution_count": 235,
   "id": "9a80481b",
   "metadata": {},
   "outputs": [],
   "source": [
    "xgbmodel_val2=xgbmodel_2.predict(intermediate_val_output)"
   ]
  },
  {
   "cell_type": "code",
   "execution_count": 238,
   "id": "60fa0cf1",
   "metadata": {},
   "outputs": [],
   "source": [
    "class_names = ['MildDementia', 'ModerateDementia', 'NonDementia', 'VeryMildDementia']"
   ]
  },
  {
   "cell_type": "code",
   "execution_count": 240,
   "id": "af7b093a",
   "metadata": {},
   "outputs": [
    {
     "name": "stdout",
     "output_type": "stream",
     "text": [
      "                  precision    recall  f1-score   support\n",
      "\n",
      "    MildDementia       0.99      0.99      0.99       596\n",
      "ModerateDementia       1.00      1.00      1.00       616\n",
      "     NonDementia       0.98      1.00      0.99       596\n",
      "VeryMildDementia       1.00      0.98      0.99       613\n",
      "\n",
      "        accuracy                           0.99      2421\n",
      "       macro avg       0.99      0.99      0.99      2421\n",
      "    weighted avg       0.99      0.99      0.99      2421\n",
      "\n"
     ]
    }
   ],
   "source": [
    "print(sklearn.metrics.classification_report(xgbmodel_train2,train_labels1,target_names=class_names))"
   ]
  },
  {
   "cell_type": "code",
   "execution_count": 241,
   "id": "9baf58f1",
   "metadata": {},
   "outputs": [
    {
     "name": "stdout",
     "output_type": "stream",
     "text": [
      "                  precision    recall  f1-score   support\n",
      "\n",
      "    MildDementia       0.93      0.95      0.94       208\n",
      "ModerateDementia       1.00      1.00      1.00       182\n",
      "     NonDementia       0.87      0.89      0.88       181\n",
      "VeryMildDementia       0.87      0.83      0.85       186\n",
      "\n",
      "        accuracy                           0.92       757\n",
      "       macro avg       0.92      0.92      0.92       757\n",
      "    weighted avg       0.92      0.92      0.92       757\n",
      "\n"
     ]
    }
   ],
   "source": [
    "print(sklearn.metrics.classification_report(xgbmodel_test2,test_labels1,target_names=class_names))"
   ]
  },
  {
   "cell_type": "code",
   "execution_count": 408,
   "id": "0f6a7cb1",
   "metadata": {},
   "outputs": [
    {
     "data": {
      "text/plain": [
       "<matplotlib.image.AxesImage at 0x27f37f2ecf8>"
      ]
     },
     "execution_count": 408,
     "metadata": {},
     "output_type": "execute_result"
    },
    {
     "data": {
      "image/png": "[encoded data removed]",
      "text/plain": [
       "<Figure size 432x288 with 1 Axes>"
      ]
     },
     "metadata": {
      "needs_background": "light"
     },
     "output_type": "display_data"
    }
   ],
   "source": [
    "n=np.random.randint(0,test_data.shape[0])\n",
    "img=test_data[n]\n",
    "plt.imshow(img)"
   ]
  },
  {
   "cell_type": "code",
   "execution_count": 409,
   "id": "374cd723",
   "metadata": {},
   "outputs": [],
   "source": [
    "input_img=np.expand_dims(img,axis=0)"
   ]
  },
  {
   "cell_type": "code",
   "execution_count": 410,
   "id": "bf366614",
   "metadata": {},
   "outputs": [],
   "source": [
    "intermediate_test = intermediate_layer_model11.predict(input_img)"
   ]
  },
  {
   "cell_type": "code",
   "execution_count": 411,
   "id": "ab1ea3ca",
   "metadata": {},
   "outputs": [],
   "source": [
    "intermediate_test_feat=intermediate_test.reshape(intermediate_test.shape[0],-1)"
   ]
  },
  {
   "cell_type": "code",
   "execution_count": 412,
   "id": "b891996b",
   "metadata": {},
   "outputs": [],
   "source": [
    "prediction_1=xgbmodel_2.predict(intermediate_test_feat)[0]"
   ]
  },
  {
   "cell_type": "code",
   "execution_count": 373,
   "id": "59655eaf",
   "metadata": {},
   "outputs": [],
   "source": [
    "def pred(prediction_1):\n",
    "    if prediction_1==0:\n",
    "        print('Mild dementia')\n",
    "    elif prediction_1==1:\n",
    "        print('Moderate Dementia')\n",
    "    elif prediction_1==2:\n",
    "        print('Non Dementia')\n",
    "    else:\n",
    "        print('very mild Dementia')"
   ]
  },
  {
   "cell_type": "code",
   "execution_count": 413,
   "id": "08ef1e90",
   "metadata": {},
   "outputs": [
    {
     "name": "stdout",
     "output_type": "stream",
     "text": [
      "Non Dementia\n"
     ]
    }
   ],
   "source": [
    "pred(prediction_1)"
   ]
  },
  {
   "cell_type": "code",
   "execution_count": 375,
   "id": "5f70c435",
   "metadata": {},
   "outputs": [
    {
     "name": "stdout",
     "output_type": "stream",
     "text": [
      "prediction of image 1\n"
     ]
    }
   ],
   "source": [
    "print(\"prediction of image\",prediction_1)"
   ]
  },
  {
   "cell_type": "code",
   "execution_count": null,
   "id": "3eaec4da",
   "metadata": {},
   "outputs": [],
   "source": []
  },
  {
   "cell_type": "code",
   "execution_count": 326,
   "id": "3afc2d4b",
   "metadata": {},
   "outputs": [],
   "source": [
    "def actualpred(test_labelsz):\n",
    "    if test_labelsz[n][0]==1:\n",
    "        print('Mild dementia')\n",
    "    elif test_labelsz[n][1]==1:\n",
    "        print('Moderate Dementia')\n",
    "    elif test_labelsz[n][2]==1:\n",
    "        print('Non Dementia')\n",
    "    else:\n",
    "        print('very mild Dementia')"
   ]
  },
  {
   "cell_type": "code",
   "execution_count": 274,
   "id": "d7a83078",
   "metadata": {},
   "outputs": [
    {
     "name": "stdout",
     "output_type": "stream",
     "text": [
      "actual image 1\n"
     ]
    }
   ],
   "source": [
    "print('actual image',test_labels[n][0])"
   ]
  },
  {
   "cell_type": "code",
   "execution_count": 431,
   "id": "56ab31ce",
   "metadata": {},
   "outputs": [
    {
     "data": {
      "text/plain": [
       "<matplotlib.image.AxesImage at 0x27f3824e6d8>"
      ]
     },
     "execution_count": 431,
     "metadata": {},
     "output_type": "execute_result"
    },
    {
     "data": {
      "image/png": "[encoded data removed]",
      "text/plain": [
       "<Figure size 432x288 with 1 Axes>"
      ]
     },
     "metadata": {
      "needs_background": "light"
     },
     "output_type": "display_data"
    }
   ],
   "source": [
    "img=test_data[5]\n",
    "plt.imshow(img)"
   ]
  },
  {
   "cell_type": "code",
   "execution_count": 432,
   "id": "74706c6c",
   "metadata": {},
   "outputs": [],
   "source": [
    "input_img1=np.expand_dims(test_data[5],axis=0)\n",
    "intermediate_test1 = intermediate_layer_model11.predict(input_img1)\n",
    "intermediate_test_feat1=intermediate_test1.reshape(intermediate_test1.shape[0],-1)\n",
    "prediction_3=xgbmodel_2.predict(intermediate_test_feat1)[0]"
   ]
  },
  {
   "cell_type": "code",
   "execution_count": 433,
   "id": "ce48aa60",
   "metadata": {},
   "outputs": [
    {
     "name": "stdout",
     "output_type": "stream",
     "text": [
      "very mild Dementia\n"
     ]
    }
   ],
   "source": [
    "pred(prediction_3)"
   ]
  },
  {
   "cell_type": "code",
   "execution_count": 427,
   "id": "21ee0119",
   "metadata": {},
   "outputs": [
    {
     "name": "stdout",
     "output_type": "stream",
     "text": [
      "actual image [0 0 0 1]\n"
     ]
    }
   ],
   "source": [
    "print('actual image',test_labels[5])"
   ]
  },
  {
   "cell_type": "code",
   "execution_count": null,
   "id": "727227ed",
   "metadata": {},
   "outputs": [],
   "source": [
    "save('original_train_data.npy',train_data)"
   ]
  },
  {
   "cell_type": "code",
   "execution_count": 340,
   "id": "d67a7a87",
   "metadata": {},
   "outputs": [],
   "source": [
    "save('original_train_label.npy',train_labels)"
   ]
  },
  {
   "cell_type": "code",
   "execution_count": 341,
   "id": "fb8bc2b5",
   "metadata": {},
   "outputs": [],
   "source": [
    "save('original_test_data.npy',test_data)"
   ]
  },
  {
   "cell_type": "code",
   "execution_count": 342,
   "id": "648daa41",
   "metadata": {},
   "outputs": [],
   "source": [
    "save('original_test_label.npy',test_labels)"
   ]
  },
  {
   "cell_type": "code",
   "execution_count": 343,
   "id": "88bb0156",
   "metadata": {},
   "outputs": [],
   "source": [
    "save('original_val_data.npy',val_data)"
   ]
  },
  {
   "cell_type": "code",
   "execution_count": 344,
   "id": "402ad6aa",
   "metadata": {},
   "outputs": [],
   "source": [
    "save('original_val_label.npy',val_labels)"
   ]
  },
  {
   "cell_type": "code",
   "execution_count": null,
   "id": "29b7d82d",
   "metadata": {},
   "outputs": [],
   "source": []
  },
  {
   "cell_type": "code",
   "execution_count": 415,
   "id": "fc3825c4",
   "metadata": {},
   "outputs": [],
   "source": [
    "mg=r'C:\\Users\\Dell\\Desktop\\predict data\\Very Mild Dementia.jpg'\n",
    "mg_1=cv2.imread(mg)\n",
    "mg_1=cv2.resize(mg_1,(DIM))"
   ]
  },
  {
   "cell_type": "code",
   "execution_count": 416,
   "id": "82163138",
   "metadata": {},
   "outputs": [],
   "source": [
    "input_img2=np.expand_dims(mg_1,axis=0)\n",
    "intermediate_test2 = intermediate_layer_model11.predict(input_img2)\n",
    "intermediate_test_feat2=intermediate_test2.reshape(intermediate_test2.shape[0],-1)\n",
    "prediction_2=xgbmodel_2.predict(intermediate_test_feat2)[0]"
   ]
  },
  {
   "cell_type": "code",
   "execution_count": 417,
   "id": "90e53fcf",
   "metadata": {},
   "outputs": [
    {
     "name": "stdout",
     "output_type": "stream",
     "text": [
      "very mild Dementia\n"
     ]
    }
   ],
   "source": [
    "pred(prediction_2)"
   ]
  },
  {
   "cell_type": "code",
   "execution_count": 438,
   "id": "564389ed",
   "metadata": {},
   "outputs": [
    {
     "data": {
      "text/plain": [
       "(1, 256)"
      ]
     },
     "execution_count": 438,
     "metadata": {},
     "output_type": "execute_result"
    }
   ],
   "source": [
    "intermediate_test_feat2.shape"
   ]
  },
  {
   "cell_type": "code",
   "execution_count": 439,
   "id": "5d345558",
   "metadata": {},
   "outputs": [
    {
     "data": {
      "text/plain": [
       "(1, 256)"
      ]
     },
     "execution_count": 439,
     "metadata": {},
     "output_type": "execute_result"
    }
   ],
   "source": [
    "intermediate_test2.shape"
   ]
  },
  {
   "cell_type": "code",
   "execution_count": 440,
   "id": "353d1dc4",
   "metadata": {},
   "outputs": [
    {
     "data": {
      "text/plain": [
       "(1, 224, 224, 3)"
      ]
     },
     "execution_count": 440,
     "metadata": {},
     "output_type": "execute_result"
    }
   ],
   "source": [
    "input_img2.shape"
   ]
  },
  {
   "cell_type": "code",
   "execution_count": 441,
   "id": "11d7b5a4",
   "metadata": {},
   "outputs": [
    {
     "data": {
      "text/plain": [
       "(224, 224, 3)"
      ]
     },
     "execution_count": 441,
     "metadata": {},
     "output_type": "execute_result"
    }
   ],
   "source": [
    "mg_1.shape"
   ]
  },
  {
   "cell_type": "code",
   "execution_count": 442,
   "id": "3a0170b5",
   "metadata": {},
   "outputs": [
    {
     "name": "stdout",
     "output_type": "stream",
     "text": [
      "3\n"
     ]
    }
   ],
   "source": [
    "print(prediction_2)"
   ]
  },
  {
   "cell_type": "code",
   "execution_count": 445,
   "id": "8085afb7",
   "metadata": {},
   "outputs": [],
   "source": [
    "intermediate_layer_model11.save_weights(\"myModel.h5\")"
   ]
  },
  {
   "cell_type": "code",
   "execution_count": 450,
   "id": "456e835e",
   "metadata": {},
   "outputs": [],
   "source": [
    "intermediate_layer_model11.load_weights(\"myModel.h5\")"
   ]
  },
  {
   "cell_type": "code",
   "execution_count": 446,
   "id": "1a3e830e",
   "metadata": {},
   "outputs": [],
   "source": [
    "import pickle"
   ]
  },
  {
   "cell_type": "code",
   "execution_count": 447,
   "id": "77a35856",
   "metadata": {},
   "outputs": [],
   "source": [
    "filename = 'finalized_model.sav'\n",
    "pickle.dump(xgbmodel_2, open(filename, 'wb'))"
   ]
  },
  {
   "cell_type": "code",
   "execution_count": null,
   "id": "0ca03613",
   "metadata": {},
   "outputs": [],
   "source": []
  }
 ],
 "metadata": {
  "kernelspec": {
   "display_name": "Python 3",
   "language": "python",
   "name": "python3"
  },
  "language_info": {
   "codemirror_mode": {
    "name": "ipython",
    "version": 3
   },
   "file_extension": ".py",
   "mimetype": "text/x-python",
   "name": "python",
   "nbconvert_exporter": "python",
   "pygments_lexer": "ipython3",
   "version": "3.6.13"
  }
 },
 "nbformat": 4,
 "nbformat_minor": 5
}
